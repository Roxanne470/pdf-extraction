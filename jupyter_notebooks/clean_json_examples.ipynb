{
 "cells": [
  {
   "cell_type": "code",
   "execution_count": 1,
   "id": "5a5e8ca2-2450-454a-ad2f-10d8227054b9",
   "metadata": {
    "tags": []
   },
   "outputs": [],
   "source": [
    "import json\n",
    "import os\n",
    "import re\n",
    "import zipfile\n",
    "import networkx as nx"
   ]
  },
  {
   "cell_type": "code",
   "execution_count": 34,
   "id": "560f540c-644b-46a9-a02e-e08fb9ec2dcf",
   "metadata": {
    "tags": []
   },
   "outputs": [],
   "source": [
    "# import torch"
   ]
  },
  {
   "cell_type": "code",
   "execution_count": null,
   "id": "b04a094c-a8fd-4caf-87ab-b2f6baee117f",
   "metadata": {},
   "outputs": [],
   "source": []
  },
  {
   "cell_type": "code",
   "execution_count": 2,
   "id": "f71f48a9-aaba-405e-b92b-735471707224",
   "metadata": {
    "tags": []
   },
   "outputs": [],
   "source": [
    "with open(\"Q2_2023_Air_Canada_MDA_P19/structuredData.json\", 'r') as json_file:\n",
    "    # Load the JSON data\n",
    "    p19 = json.load(json_file)"
   ]
  },
  {
   "cell_type": "code",
   "execution_count": 3,
   "id": "dedc1d8f-6b3e-4dad-9e78-f281661a253e",
   "metadata": {
    "tags": []
   },
   "outputs": [],
   "source": [
    "with open(\"Q2_2023_Air_Canada_MDA_P20/structuredData.json\", 'r') as json_file:\n",
    "    # Load the JSON data\n",
    "    p20 = json.load(json_file)"
   ]
  },
  {
   "cell_type": "code",
   "execution_count": 4,
   "id": "38593543-a39d-490d-a713-9de777d743bc",
   "metadata": {
    "tags": []
   },
   "outputs": [
    {
     "data": {
      "text/plain": [
       "dict_keys(['version', 'extended_metadata', 'elements', 'pages'])"
      ]
     },
     "execution_count": 4,
     "metadata": {},
     "output_type": "execute_result"
    }
   ],
   "source": [
    "p19.keys()"
   ]
  },
  {
   "cell_type": "code",
   "execution_count": 5,
   "id": "0ce871d1-0195-412c-aac2-f6fe25489ba3",
   "metadata": {
    "tags": []
   },
   "outputs": [],
   "source": [
    "# for element in p19['elements']:\n",
    "#     tag_found = False\n",
    "#     for tag in ['Figure', 'Title', 'H1', 'H2', 'Table']:\n",
    "#         if tag in element['Path']:\n",
    "#             tag_found = True\n",
    "#             break  # Exit the inner loop once a match is found\n",
    "\n",
    "#     if not tag_found:\n",
    "#         print(element['Text'], \"\\n\")"
   ]
  },
  {
   "cell_type": "code",
   "execution_count": 6,
   "id": "849dda13-df03-44fa-afe2-943fe486b326",
   "metadata": {
    "tags": []
   },
   "outputs": [],
   "source": [
    "all_files = os.listdir(\"js_output\")\n",
    "all_files.remove(\".DS_Store\")\n",
    "all_files.sort(key=lambda f: int(re.sub(r'\\D', '', f)))"
   ]
  },
  {
   "cell_type": "code",
   "execution_count": 7,
   "id": "cf5dbb09-ef98-49d7-9988-ca61287ab524",
   "metadata": {
    "tags": []
   },
   "outputs": [],
   "source": [
    "Q2_files = [file for file in all_files if \"Q2\" in file]\n",
    "Q3_files = [file for file in all_files if \"Q3\" in file]"
   ]
  },
  {
   "cell_type": "code",
   "execution_count": 8,
   "id": "07b4144c-91f3-449d-84d5-73f8e5e3489d",
   "metadata": {
    "tags": []
   },
   "outputs": [
    {
     "data": {
      "text/plain": [
       "(33, 34)"
      ]
     },
     "execution_count": 8,
     "metadata": {},
     "output_type": "execute_result"
    }
   ],
   "source": [
    "len(Q2_files), len(Q3_files)"
   ]
  },
  {
   "cell_type": "code",
   "execution_count": 9,
   "id": "220913ea-304b-41bd-b322-c3b03e8a3361",
   "metadata": {
    "tags": []
   },
   "outputs": [
    {
     "data": {
      "text/plain": [
       "'Q2_2023_Air_Canada_MDA_P1.zip'"
      ]
     },
     "execution_count": 9,
     "metadata": {},
     "output_type": "execute_result"
    }
   ],
   "source": [
    "Q2_files[0]"
   ]
  },
  {
   "cell_type": "code",
   "execution_count": 10,
   "id": "7b8eb07b-dc9a-4c90-8af1-ee5d4205cde1",
   "metadata": {
    "tags": []
   },
   "outputs": [],
   "source": [
    "# for element in p19[\"elements\"]:\n",
    "#     if(element[\"Path\"].endswith(\"/P\")):\n",
    "#         print(element[\"Text\"])"
   ]
  },
  {
   "cell_type": "code",
   "execution_count": 11,
   "id": "8e15fa2b-f7b4-4fad-b966-f192655e1bbd",
   "metadata": {
    "tags": []
   },
   "outputs": [],
   "source": [
    "output_folder = \"js_output\"\n",
    "file = \"Q2_2023_Air_Canada_MDA\""
   ]
  },
  {
   "cell_type": "code",
   "execution_count": 12,
   "id": "a367f00b-fb49-42bd-a0a9-2b721ff1afac",
   "metadata": {
    "tags": []
   },
   "outputs": [],
   "source": [
    "filtered_elements = []\n",
    "\n",
    "for file in Q2_files[2:]:\n",
    "    \n",
    "    page_no = int(file.split(\".\")[0].split(\"_\")[-1][1:])\n",
    "    file_path = os.path.join(\"js_output\", file)\n",
    "    archive = zipfile.ZipFile(file_path, 'r')\n",
    "    jsonentry = archive.open('structuredData.json')\n",
    "    jsondata = jsonentry.read()\n",
    "    data = json.loads(jsondata)\n",
    "    \n",
    "    for element in data['elements']:\n",
    "        tag_found = False\n",
    "        for tag in ['Figure', 'Table', 'Reference', 'Lbl']: # exclude Figure, Tabel cells, Reference, List Item Label\n",
    "            if (tag in element['Path']):\n",
    "                tag_found = True\n",
    "                if element['Path'].endswith(\"/Table\"):\n",
    "                    element['Page'] = page_no\n",
    "                    filtered_elements.append(element) # collect table element\n",
    "                break  # Exit the inner loop once a match is found\n",
    "        \n",
    "        # Text needs to have at least 5 words unless it's a title\n",
    "        if (not tag_found) and ((len(element['Text'].split()) >= 5) or (\"Title\" in element['Path']) or (\"H1\" in element['Path']) or (\"H2\" in element['Path'])):\n",
    "            # print(element['Path'], element['Text'], \"\\n\")\n",
    "            element['Page'] = page_no\n",
    "            filtered_elements.append(element) # collect text element"
   ]
  },
  {
   "cell_type": "code",
   "execution_count": 13,
   "id": "11cb1000-cfe7-40f9-90fe-2dd57e580a19",
   "metadata": {
    "tags": []
   },
   "outputs": [
    {
     "data": {
      "text/plain": [
       "298"
      ]
     },
     "execution_count": 13,
     "metadata": {},
     "output_type": "execute_result"
    }
   ],
   "source": [
    "len(filtered_elements)"
   ]
  },
  {
   "cell_type": "code",
   "execution_count": 14,
   "id": "af443529-7cc0-49f9-9d22-7895eb95f570",
   "metadata": {
    "tags": []
   },
   "outputs": [
    {
     "name": "stdout",
     "output_type": "stream",
     "text": [
      "267\n"
     ]
    }
   ],
   "source": [
    "# remove unwanted text\n",
    "for element in filtered_elements:\n",
    "    try:\n",
    "        if element['Text'] == \"Second Quarter 2023 Management’s Discussion and Analysis of Results of Operations and Financial Condition \":\n",
    "            filtered_elements.remove(element)\n",
    "    except:\n",
    "        pass\n",
    "print(len(filtered_elements))"
   ]
  },
  {
   "cell_type": "code",
   "execution_count": 15,
   "id": "74474912-7731-4567-9dd5-c264f4f9e904",
   "metadata": {
    "tags": []
   },
   "outputs": [],
   "source": [
    "section = \"Anything\"\n",
    "sections = []\n",
    "\n",
    "for element in filtered_elements:\n",
    "    if (element['Path'].endswith(\"Title\")) or (element['Path'].endswith(\"H1\")) or (element['Path'].endswith(\"H2\")):\n",
    "        # assign section name for all text elements\n",
    "        section = element['Text']\n",
    "        sections.append(section)\n",
    "    element['Section'] = section"
   ]
  },
  {
   "cell_type": "code",
   "execution_count": 16,
   "id": "e8138598-1f33-4e8e-92fa-0cb739d4c2a4",
   "metadata": {
    "tags": []
   },
   "outputs": [
    {
     "data": {
      "text/plain": [
       "66"
      ]
     },
     "execution_count": 16,
     "metadata": {},
     "output_type": "execute_result"
    }
   ],
   "source": [
    "len(sections)"
   ]
  },
  {
   "cell_type": "code",
   "execution_count": 17,
   "id": "8ec265f3-f3e5-45fa-a43d-2749be130834",
   "metadata": {
    "tags": []
   },
   "outputs": [
    {
     "data": {
      "text/plain": [
       "'Q2_2023_Air_Canada_MDA_P33.zip'"
      ]
     },
     "execution_count": 17,
     "metadata": {},
     "output_type": "execute_result"
    }
   ],
   "source": [
    "file"
   ]
  },
  {
   "cell_type": "code",
   "execution_count": 18,
   "id": "a4944282-2958-4db7-9d84-31a6ec7ef2ab",
   "metadata": {
    "tags": []
   },
   "outputs": [
    {
     "name": "stdout",
     "output_type": "stream",
     "text": [
      "1. SELECTED FINANCIAL METRICS AND STATISTICS \n"
     ]
    }
   ],
   "source": [
    "for section in sections[:1]:\n",
    "    print(section)\n",
    "    section_text = \"\"\n",
    "    for element in filtered_elements:\n",
    "        # concatenate all text in the section and then split into 100-words passages\n",
    "        if (element['Section'] == section) and not (element['Path'].endswith('/Table')):\n",
    "            if element['Text'] != section:\n",
    "                section_text += element['Text'] + \" \""
   ]
  },
  {
   "cell_type": "code",
   "execution_count": 19,
   "id": "d8827d46-fdc1-460a-b530-1ae8c59125d9",
   "metadata": {
    "tags": []
   },
   "outputs": [
    {
     "data": {
      "text/plain": [
       "'The financial and operating highlights for Air Canada for the periods indicated are as follows:  (1) Operating margin is a supplementary financial measure and is defined as operating income (loss) as a percentage of operating revenues.  (2) Adjusted EBITDA (earnings before interest, taxes, depreciation and amortization), adjusted EBITDA margin, adjusted pre-tax income (loss), adjusted net income (loss), free cash flow, net debt, adjusted earnings (loss) per share and adjusted CASM are non-GAAP financial measures, capital management measures, non-GAAP ratios or supplementary financial measures. Such measures are not recognized measures for financial statement presentation under GAAP, do not have standardized meanings, may not be comparable to similar measures presented by other entities and should not be considered a substitute for or superior to GAAP results. Refer to section (<>)16 “Non-GAAP Financial Measures” of this MD&A for descriptions of Air Canada’s non-GAAP financial measures and for a quantitative reconciliation of Air Canada’s non-GAAP financial measures to the most comparable GAAP measure.  (3) Total liquidity refers to the sum of cash, cash equivalents, short- and long-term investments and the amounts available under Air Canada’s credit facilities. Total liquidity, as at June 30, 2023, of $10,551 million consisted of  $9,556 million in cash, cash equivalents, short- and long-term  investments and $995 million available under undrawn credit facilities. As at June 30, 2022, total liquidity of $10,694 million consisted of $9,722 million in cash and cash equivalents, short- and long-term investments, and $972 million available under undrawn credit facilities. Cash and cash equivalents also include funds ($189 million as at June 30, 2023, and $186 million as at June 30, 2022) held in trust by Air Canada Vacations in accordance with regulatory requirements governing advance sales for tour operators.  Except for the reference to average number of FTE employees, operating statistics in this table include Jazz operating under the capacity purchase agreement with Air Canada.  Reflects average FTE employees at Air Canada and its subsidiaries. Excludes FTE employees at Jazz operating under the capacity purchase agreement with Air Canada.  Average stage length is calculated by dividing the total number of available seat miles by the total number of seats dispatched.  Revenue passengers are counted on a flight number basis (rather than by journey/itinerary or by leg), which is consistent with the IATA definition of revenue passengers carried.  “pp” denotes percentage points and refers to a measure of the arithmetic difference between two percentages.  '"
      ]
     },
     "execution_count": 19,
     "metadata": {},
     "output_type": "execute_result"
    }
   ],
   "source": [
    "section_text"
   ]
  },
  {
   "cell_type": "code",
   "execution_count": 20,
   "id": "ff7f5fd1-d4d2-488f-8abe-78b8fdf371a9",
   "metadata": {
    "tags": []
   },
   "outputs": [],
   "source": [
    "def split_into_passages(text):\n",
    "    \n",
    "    words = text.split()\n",
    "    num_passages = (len(words) + 99) // 100\n",
    "    passages = []\n",
    "\n",
    "    # Iterate through the number of passages\n",
    "    for i in range(num_passages):\n",
    "        start_index = i * 100\n",
    "        end_index = (i + 1) * 100\n",
    "        passage = ' '.join(words[start_index:end_index])\n",
    "        passages.append(passage)\n",
    "\n",
    "    return passages"
   ]
  },
  {
   "cell_type": "code",
   "execution_count": 21,
   "id": "e31db6ba-ad6d-4ac0-b51e-f6221df28e7a",
   "metadata": {
    "tags": []
   },
   "outputs": [
    {
     "data": {
      "text/plain": [
       "['The financial and operating highlights for Air Canada for the periods indicated are as follows: (1) Operating margin is a supplementary financial measure and is defined as operating income (loss) as a percentage of operating revenues. (2) Adjusted EBITDA (earnings before interest, taxes, depreciation and amortization), adjusted EBITDA margin, adjusted pre-tax income (loss), adjusted net income (loss), free cash flow, net debt, adjusted earnings (loss) per share and adjusted CASM are non-GAAP financial measures, capital management measures, non-GAAP ratios or supplementary financial measures. Such measures are not recognized measures for financial statement presentation under GAAP, do not have standardized meanings,',\n",
       " 'may not be comparable to similar measures presented by other entities and should not be considered a substitute for or superior to GAAP results. Refer to section (<>)16 “Non-GAAP Financial Measures” of this MD&A for descriptions of Air Canada’s non-GAAP financial measures and for a quantitative reconciliation of Air Canada’s non-GAAP financial measures to the most comparable GAAP measure. (3) Total liquidity refers to the sum of cash, cash equivalents, short- and long-term investments and the amounts available under Air Canada’s credit facilities. Total liquidity, as at June 30, 2023, of $10,551 million consisted of $9,556 million in cash, cash',\n",
       " 'equivalents, short- and long-term investments and $995 million available under undrawn credit facilities. As at June 30, 2022, total liquidity of $10,694 million consisted of $9,722 million in cash and cash equivalents, short- and long-term investments, and $972 million available under undrawn credit facilities. Cash and cash equivalents also include funds ($189 million as at June 30, 2023, and $186 million as at June 30, 2022) held in trust by Air Canada Vacations in accordance with regulatory requirements governing advance sales for tour operators. Except for the reference to average number of FTE employees, operating statistics in this table include',\n",
       " 'Jazz operating under the capacity purchase agreement with Air Canada. Reflects average FTE employees at Air Canada and its subsidiaries. Excludes FTE employees at Jazz operating under the capacity purchase agreement with Air Canada. Average stage length is calculated by dividing the total number of available seat miles by the total number of seats dispatched. Revenue passengers are counted on a flight number basis (rather than by journey/itinerary or by leg), which is consistent with the IATA definition of revenue passengers carried. “pp” denotes percentage points and refers to a measure of the arithmetic difference between two percentages.']"
      ]
     },
     "execution_count": 21,
     "metadata": {},
     "output_type": "execute_result"
    }
   ],
   "source": [
    "split_into_passages(section_text)"
   ]
  },
  {
   "cell_type": "code",
   "execution_count": 22,
   "id": "057410de-02db-41fa-936f-a3c5edb66afb",
   "metadata": {
    "tags": []
   },
   "outputs": [],
   "source": [
    "filtered_elements_copy = filtered_elements.copy()"
   ]
  },
  {
   "cell_type": "code",
   "execution_count": 23,
   "id": "ed7d5e85-82b8-4d2d-9c23-1e95ee3296e3",
   "metadata": {
    "tags": []
   },
   "outputs": [
    {
     "data": {
      "text/plain": [
       "(267, 267)"
      ]
     },
     "execution_count": 23,
     "metadata": {},
     "output_type": "execute_result"
    }
   ],
   "source": [
    "len(filtered_elements_copy), len(filtered_elements)"
   ]
  },
  {
   "cell_type": "code",
   "execution_count": 24,
   "id": "3c533050-eb71-477d-b43d-fbe736f0e6ed",
   "metadata": {
    "tags": []
   },
   "outputs": [],
   "source": [
    "updated_elements = []\n",
    "element_dict = dict()\n",
    "\n",
    "for section in sections:\n",
    "    # print(section)\n",
    "    section_text = \"\"\n",
    "    section_tables = []\n",
    "    for element in filtered_elements_copy:\n",
    "        # print(element['Section'], element['Path'])\n",
    "        # concatenate all text in the section and then split into 100-words passages\n",
    "        if element['Section'] == section:\n",
    "            if element['Path'].endswith('/Table'):\n",
    "                # print(element['Path'])\n",
    "                section_tables.append(element)\n",
    "            #     filtered_elements_copy.remove(element)\n",
    "                \n",
    "            else:\n",
    "                if element['Text'] != section:\n",
    "                    # print(element['Text'])\n",
    "                    section_text += element['Text'] + \" \"\n",
    "                # filtered_elements_copy.remove(element)\n",
    "        else:\n",
    "            continue\n",
    "            \n",
    "        \n",
    "    section_passages = split_into_passages(section_text)\n",
    "    for i in range(len(section_passages)):\n",
    "        element_dict = {\"Section\": section,\n",
    "                        \"Type\": \"Passage\",\n",
    "                        \"Name\": \"Passage_\" + str(i+1),\n",
    "                        \"Feature\": section_passages[i]\n",
    "                       }\n",
    "        updated_elements.append(element_dict)\n",
    "    \n",
    "    for i, element in enumerate(section_tables):\n",
    "        element_dict = {\"Section\": element['Section'],\n",
    "                \"Page\": element['Page'],\n",
    "                \"Type\": \"Table\",\n",
    "                \"Name\": \"Table_\" + str(i+1),\n",
    "                \"NumCol\": element['attributes']['NumCol'],\n",
    "                \"NumRow\": element['attributes']['NumRow'],\n",
    "                \"XlsxPath\": os.path.join(output_folder, file+\"_P\"+str(element['Page']), element['filePaths'][0]),\n",
    "                \"PngPath\": os.path.join(output_folder, file+\"_P\"+str(element['Page']), element['filePaths'][1])\n",
    "           }\n",
    "        updated_elements.append(element_dict)"
   ]
  },
  {
   "cell_type": "code",
   "execution_count": 25,
   "id": "aa2611f7-487b-44c0-b953-995bf4e69f21",
   "metadata": {
    "tags": []
   },
   "outputs": [
    {
     "data": {
      "text/plain": [
       "146"
      ]
     },
     "execution_count": 25,
     "metadata": {},
     "output_type": "execute_result"
    }
   ],
   "source": [
    "len(updated_elements)"
   ]
  },
  {
   "cell_type": "code",
   "execution_count": 26,
   "id": "2f4fca32-5c91-42a3-ab5f-02694aa310f9",
   "metadata": {
    "tags": []
   },
   "outputs": [
    {
     "data": {
      "text/plain": [
       "[{'Section': '1. SELECTED FINANCIAL METRICS AND STATISTICS ',\n",
       "  'Type': 'Passage',\n",
       "  'Name': 'Passage_1',\n",
       "  'Feature': 'The financial and operating highlights for Air Canada for the periods indicated are as follows: (1) Operating margin is a supplementary financial measure and is defined as operating income (loss) as a percentage of operating revenues. (2) Adjusted EBITDA (earnings before interest, taxes, depreciation and amortization), adjusted EBITDA margin, adjusted pre-tax income (loss), adjusted net income (loss), free cash flow, net debt, adjusted earnings (loss) per share and adjusted CASM are non-GAAP financial measures, capital management measures, non-GAAP ratios or supplementary financial measures. Such measures are not recognized measures for financial statement presentation under GAAP, do not have standardized meanings,'},\n",
       " {'Section': '1. SELECTED FINANCIAL METRICS AND STATISTICS ',\n",
       "  'Type': 'Passage',\n",
       "  'Name': 'Passage_2',\n",
       "  'Feature': 'may not be comparable to similar measures presented by other entities and should not be considered a substitute for or superior to GAAP results. Refer to section (<>)16 “Non-GAAP Financial Measures” of this MD&A for descriptions of Air Canada’s non-GAAP financial measures and for a quantitative reconciliation of Air Canada’s non-GAAP financial measures to the most comparable GAAP measure. (3) Total liquidity refers to the sum of cash, cash equivalents, short- and long-term investments and the amounts available under Air Canada’s credit facilities. Total liquidity, as at June 30, 2023, of $10,551 million consisted of $9,556 million in cash, cash'},\n",
       " {'Section': '1. SELECTED FINANCIAL METRICS AND STATISTICS ',\n",
       "  'Type': 'Passage',\n",
       "  'Name': 'Passage_3',\n",
       "  'Feature': 'equivalents, short- and long-term investments and $995 million available under undrawn credit facilities. As at June 30, 2022, total liquidity of $10,694 million consisted of $9,722 million in cash and cash equivalents, short- and long-term investments, and $972 million available under undrawn credit facilities. Cash and cash equivalents also include funds ($189 million as at June 30, 2023, and $186 million as at June 30, 2022) held in trust by Air Canada Vacations in accordance with regulatory requirements governing advance sales for tour operators. Except for the reference to average number of FTE employees, operating statistics in this table include'},\n",
       " {'Section': '1. SELECTED FINANCIAL METRICS AND STATISTICS ',\n",
       "  'Type': 'Passage',\n",
       "  'Name': 'Passage_4',\n",
       "  'Feature': 'Jazz operating under the capacity purchase agreement with Air Canada. Reflects average FTE employees at Air Canada and its subsidiaries. Excludes FTE employees at Jazz operating under the capacity purchase agreement with Air Canada. Average stage length is calculated by dividing the total number of available seat miles by the total number of seats dispatched. Revenue passengers are counted on a flight number basis (rather than by journey/itinerary or by leg), which is consistent with the IATA definition of revenue passengers carried. “pp” denotes percentage points and refers to a measure of the arithmetic difference between two percentages.'},\n",
       " {'Section': '1. SELECTED FINANCIAL METRICS AND STATISTICS ',\n",
       "  'Page': 3,\n",
       "  'Type': 'Table',\n",
       "  'Name': 'Table_1',\n",
       "  'NumCol': 7,\n",
       "  'NumRow': 34,\n",
       "  'XlsxPath': 'js_output/Q2_2023_Air_Canada_MDA_P33.zip_P3/tables/fileoutpart0.xlsx',\n",
       "  'PngPath': 'js_output/Q2_2023_Air_Canada_MDA_P33.zip_P3/tables/fileoutpart1.png'}]"
      ]
     },
     "execution_count": 26,
     "metadata": {},
     "output_type": "execute_result"
    }
   ],
   "source": [
    "updated_elements[:5]"
   ]
  },
  {
   "cell_type": "code",
   "execution_count": 27,
   "id": "5f8377bf-7a24-4116-bb3b-18678e4e918d",
   "metadata": {
    "tags": []
   },
   "outputs": [],
   "source": [
    "def create_knowledge_graph(data):\n",
    "    # Create a directed graph\n",
    "    knowledge_graph = nx.DiGraph()\n",
    "\n",
    "    # Iterate through the list of dictionaries\n",
    "    for item in data:\n",
    "        section_name = item[\"Section\"]\n",
    "\n",
    "        # Add section node if not already added\n",
    "        section_node = {'Type': \"Section\",\n",
    "                        \"Name\": section_name\n",
    "                       }\n",
    "        knowledge_graph.add_nodes_from([(section_name, section_node)])\n",
    "\n",
    "        if item[\"Type\"] == \"Table\":\n",
    "            # Add table node\n",
    "            table_name = \", \".join([section_name, item['Name']])\n",
    "            knowledge_graph.add_nodes_from([(table_name, item)])\n",
    "\n",
    "            # Add directed edge from section to table\n",
    "            knowledge_graph.add_edge(section_name, table_name)\n",
    "\n",
    "        elif item[\"Type\"] == \"Passage\":\n",
    "            # Add passage node\n",
    "            passage_name = \", \".join([section_name, item['Name']])\n",
    "            knowledge_graph.add_nodes_from([(passage_name, item)])\n",
    "\n",
    "            # Add directed edge from section to passage\n",
    "            knowledge_graph.add_edge(section_name, passage_name)\n",
    "\n",
    "    return knowledge_graph\n"
   ]
  },
  {
   "cell_type": "code",
   "execution_count": 28,
   "id": "3dc701f1-6957-434a-ac96-71c9f8c35d09",
   "metadata": {
    "tags": []
   },
   "outputs": [
    {
     "data": {
      "text/plain": [
       "204"
      ]
     },
     "execution_count": 28,
     "metadata": {},
     "output_type": "execute_result"
    }
   ],
   "source": [
    "# Create the knowledge graph\n",
    "graph = create_knowledge_graph(updated_elements)\n",
    "len(list(graph.nodes))"
   ]
  },
  {
   "cell_type": "code",
   "execution_count": 32,
   "id": "dee858c7-ffc1-45fb-b5c5-d03035fdd43f",
   "metadata": {
    "tags": []
   },
   "outputs": [
    {
     "data": {
      "text/plain": [
       "142"
      ]
     },
     "execution_count": 32,
     "metadata": {},
     "output_type": "execute_result"
    }
   ],
   "source": [
    "len(list(graph.edges))"
   ]
  },
  {
   "cell_type": "code",
   "execution_count": 31,
   "id": "fb9a72e2-8f50-4cac-8311-f570d00fe579",
   "metadata": {
    "tags": []
   },
   "outputs": [
    {
     "ename": "NameError",
     "evalue": "name '_C' is not defined",
     "output_type": "error",
     "traceback": [
      "\u001b[0;31m---------------------------------------------------------------------------\u001b[0m",
      "\u001b[0;31mNameError\u001b[0m                                 Traceback (most recent call last)",
      "Cell \u001b[0;32mIn[31], line 2\u001b[0m\n\u001b[1;32m      1\u001b[0m \u001b[38;5;28;01mimport\u001b[39;00m \u001b[38;5;21;01mnumpy\u001b[39;00m \u001b[38;5;28;01mas\u001b[39;00m \u001b[38;5;21;01mnp\u001b[39;00m\n\u001b[0;32m----> 2\u001b[0m \u001b[38;5;28;01mimport\u001b[39;00m \u001b[38;5;21;01mtorch\u001b[39;00m\n\u001b[1;32m      3\u001b[0m \u001b[38;5;28;01mfrom\u001b[39;00m \u001b[38;5;21;01msentence_transformers\u001b[39;00m \u001b[38;5;28;01mimport\u001b[39;00m SentenceTransformer\n",
      "File \u001b[0;32m~/anaconda3/envs/mlenv/lib/python3.11/site-packages/torch/__init__.py:457\u001b[0m\n\u001b[1;32m    443\u001b[0m         \u001b[38;5;28;01mraise\u001b[39;00m \u001b[38;5;167;01mImportError\u001b[39;00m(textwrap\u001b[38;5;241m.\u001b[39mdedent(\u001b[38;5;124m'''\u001b[39m\n\u001b[1;32m    444\u001b[0m \u001b[38;5;124m            Failed to load PyTorch C extensions:\u001b[39m\n\u001b[1;32m    445\u001b[0m \u001b[38;5;124m                It appears that PyTorch has loaded the `torch/_C` folder\u001b[39m\n\u001b[0;32m   (...)\u001b[0m\n\u001b[1;32m    453\u001b[0m \u001b[38;5;124m                or by running Python from a different directory.\u001b[39m\n\u001b[1;32m    454\u001b[0m \u001b[38;5;124m            \u001b[39m\u001b[38;5;124m'''\u001b[39m)\u001b[38;5;241m.\u001b[39mstrip()) \u001b[38;5;28;01mfrom\u001b[39;00m \u001b[38;5;28;01mNone\u001b[39;00m\n\u001b[1;32m    455\u001b[0m     \u001b[38;5;28;01mraise\u001b[39;00m  \u001b[38;5;66;03m# If __file__ is not None the cause is unknown, so just re-raise.\u001b[39;00m\n\u001b[0;32m--> 457\u001b[0m \u001b[38;5;28;01mfor\u001b[39;00m name \u001b[38;5;129;01min\u001b[39;00m \u001b[38;5;28mdir\u001b[39m(_C):\n\u001b[1;32m    458\u001b[0m     \u001b[38;5;28;01mif\u001b[39;00m name[\u001b[38;5;241m0\u001b[39m] \u001b[38;5;241m!=\u001b[39m \u001b[38;5;124m'\u001b[39m\u001b[38;5;124m_\u001b[39m\u001b[38;5;124m'\u001b[39m \u001b[38;5;129;01mand\u001b[39;00m \u001b[38;5;129;01mnot\u001b[39;00m name\u001b[38;5;241m.\u001b[39mendswith(\u001b[38;5;124m'\u001b[39m\u001b[38;5;124mBase\u001b[39m\u001b[38;5;124m'\u001b[39m):\n\u001b[1;32m    459\u001b[0m         __all__\u001b[38;5;241m.\u001b[39mappend(name)\n",
      "\u001b[0;31mNameError\u001b[0m: name '_C' is not defined"
     ]
    }
   ],
   "source": [
    "import numpy as np\n",
    "import torch\n",
    "from sentence_transformers import SentenceTransformer"
   ]
  },
  {
   "cell_type": "code",
   "execution_count": null,
   "id": "462a7d7f-4dff-4923-bfbb-bbc1319ed1d6",
   "metadata": {
    "tags": []
   },
   "outputs": [],
   "source": [
    "msmarco-distilbert-base-tas-b"
   ]
  }
 ],
 "metadata": {
  "kernelspec": {
   "display_name": "Python [conda env:mlenv] *",
   "language": "python",
   "name": "conda-env-mlenv-py"
  },
  "language_info": {
   "codemirror_mode": {
    "name": "ipython",
    "version": 3
   },
   "file_extension": ".py",
   "mimetype": "text/x-python",
   "name": "python",
   "nbconvert_exporter": "python",
   "pygments_lexer": "ipython3",
   "version": "3.11.5"
  }
 },
 "nbformat": 4,
 "nbformat_minor": 5
}
